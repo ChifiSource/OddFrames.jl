{
 "cells": [
  {
   "cell_type": "markdown",
   "metadata": {},
   "source": [
    "# Constructor"
   ]
  },
  {
   "cell_type": "code",
   "execution_count": 1,
   "metadata": {},
   "outputs": [
    {
     "data": {
      "text/plain": [
       "Main.OddFrames"
      ]
     },
     "execution_count": 1,
     "metadata": {},
     "output_type": "execute_result"
    }
   ],
   "source": [
    "include(\"../src/OddFrames.jl\")"
   ]
  },
  {
   "cell_type": "code",
   "execution_count": 2,
   "metadata": {},
   "outputs": [],
   "source": [
    "using Main.OddFrames"
   ]
  },
  {
   "cell_type": "code",
   "execution_count": 3,
   "metadata": {},
   "outputs": [
    {
     "name": "stdout",
     "output_type": "stream",
     "text": [
      "12\n",
      "12\n"
     ]
    }
   ],
   "source": [
    "array = [5, 10, 15, 20, 25, 30, 35, 40, 45, 50, 65, 70]\n",
    "cats = [\"A\", \"B\", \"A\", \"B\", \"A\", \"B\", \"C\", \"C\", \"B\", \"A\", \"C\", \"A\"]\n",
    "println(length(array))\n",
    "println(length(cats))"
   ]
  },
  {
   "cell_type": "code",
   "execution_count": 4,
   "metadata": {},
   "outputs": [
    {
     "name": "stdout",
     "output_type": "stream",
     "text": [
      "Any[\"data-type: Int64\\n Feature Type: Continuous\\n Mean: 34.166666666666664\\n Minimum: 5\\n Maximum: 70\", \"data-type: String\\n Feature Type: Categorical\\n Categories: 3\\n Majority: \"]"
     ]
    },
    {
     "data": {
      "text/plain": [
       "OddFrame([:num, :cats], Any[[5, 10, 15, 20, 25, 30, 35, 40, 45, 50, 65, 70], [\"A\", \"B\", \"A\", \"B\", \"A\", \"B\", \"C\", \"C\", \"B\", \"A\", \"C\", \"A\"]], [\"data-type: Int64\\n Feature Type: Continuous\\n Mean: 34.166666666666664\\n Minimum: 5\\n Maximum: 70\", \"data-type: String\\n Feature Type: Categorical\\n Categories: 3\\n Majority: \"], Main.OddFrames.var\"#head#16\"{Vector{Any}, Vector{Vector{T} where T}, Vector{Symbol}}(Any[\"data-type: Int64\\n Feature Type: Continuous\\n Mean: 34.166666666666664\\n Minimum: 5\\n Maximum: 70\", \"data-type: String\\n Feature Type: Categorical\\n Categories: 3\\n Majority: \"], Vector{T} where T[[5, 10, 15, 20, 25, 30, 35, 40, 45, 50, 65, 70], [\"A\", \"B\", \"A\", \"B\", \"A\", \"B\", \"C\", \"C\", \"B\", \"A\", \"C\", \"A\"]], [:num, :cats], Core.Box(Main.OddFrames.var\"#_head#29\"())), Main.OddFrames.var\"#drop#17\"{Vector{Any}, Vector{Vector{T} where T}, Vector{Symbol}}(Any[\"data-type: Int64\\n Feature Type: Continuous\\n Mean: 34.166666666666664\\n Minimum: 5\\n Maximum: 70\", \"data-type: String\\n Feature Type: Categorical\\n Categories: 3\\n Majority: \"], Vector{T} where T[[5, 10, 15, 20, 25, 30, 35, 40, 45, 50, 65, 70], [\"A\", \"B\", \"A\", \"B\", \"A\", \"B\", \"C\", \"C\", \"B\", \"A\", \"C\", \"A\"]], [:num, :cats], Core.Box(Main.OddFrames.var\"#_drop#33\"())))"
      ]
     },
     "execution_count": 4,
     "metadata": {},
     "output_type": "execute_result"
    }
   ],
   "source": [
    "od = OddFrame(:num => array, :cats => cats)"
   ]
  },
  {
   "cell_type": "markdown",
   "metadata": {},
   "source": [
    "# Child Functions"
   ]
  },
  {
   "cell_type": "code",
   "execution_count": 5,
   "metadata": {},
   "outputs": [
    {
     "data": {
      "text/html": [
       "<body><table><thead><tr><th title = \"data-type: Int64\n",
       " Feature Type: Continuous\n",
       " Mean: 34.166666666666664\n",
       " Minimum: 5\n",
       " Maximum: 70\">num</th><th title = \"data-type: String\n",
       " Feature Type: Categorical\n",
       " Categories: 3\n",
       " Majority: \">cats</th></tr></thead><tbody><tr><td title = \"data-type: Int64\n",
       " Feature Type: Continuous\n",
       " Mean: 34.166666666666664\n",
       " Minimum: 5\n",
       " Maximum: 70\">5</td><td title = \"data-type: String\n",
       " Feature Type: Categorical\n",
       " Categories: 3\n",
       " Majority: \">A</td></tr><tr><td title = \"data-type: Int64\n",
       " Feature Type: Continuous\n",
       " Mean: 34.166666666666664\n",
       " Minimum: 5\n",
       " Maximum: 70\">10</td><td title = \"data-type: String\n",
       " Feature Type: Categorical\n",
       " Categories: 3\n",
       " Majority: \">B</td></tr><tr><td title = \"data-type: Int64\n",
       " Feature Type: Continuous\n",
       " Mean: 34.166666666666664\n",
       " Minimum: 5\n",
       " Maximum: 70\">15</td><td title = \"data-type: String\n",
       " Feature Type: Categorical\n",
       " Categories: 3\n",
       " Majority: \">A</td></tr><tr><td title = \"data-type: Int64\n",
       " Feature Type: Continuous\n",
       " Mean: 34.166666666666664\n",
       " Minimum: 5\n",
       " Maximum: 70\">20</td><td title = \"data-type: String\n",
       " Feature Type: Categorical\n",
       " Categories: 3\n",
       " Majority: \">B</td></tr><tr><td title = \"data-type: Int64\n",
       " Feature Type: Continuous\n",
       " Mean: 34.166666666666664\n",
       " Minimum: 5\n",
       " Maximum: 70\">25</td><td title = \"data-type: String\n",
       " Feature Type: Categorical\n",
       " Categories: 3\n",
       " Majority: \">A</td></tr></tbody></table></body>\n",
       "<style>\n",
       "body {\n",
       "    background: #fafafa url(https://jackrugile.com/images/misc/noise-diagonal.png);\n",
       "    color: #444;\n",
       "    font: 100%/30px 'Helvetica Neue', helvetica, arial, sans-serif;\n",
       "    text-shadow: 0 1px 0 #fff;\n",
       "}\n",
       "\n",
       "strong {\n",
       "    font-weight: bold;\n",
       "}\n",
       "\n",
       "em {\n",
       "    font-style: italic;\n",
       "}\n",
       "\n",
       "table {\n",
       "    background: #f5f5f5;\n",
       "    border-collapse: separate;\n",
       "    box-shadow: inset 0 1px 0 #fff;\n",
       "    font-size: 12px;\n",
       "    line-height: 24px;\n",
       "    margin: 30px auto;\n",
       "    text-align: left;\n",
       "    width: 800px;\n",
       "}\n",
       "\n",
       "th {\n",
       "    background: url(https://jackrugile.com/images/misc/noise-diagonal.png), linear-gradient(#777, #444);\n",
       "    border-left: 1px solid #555;\n",
       "    border-right: 1px solid #777;\n",
       "    border-top: 1px solid #555;\n",
       "    border-bottom: 1px solid #333;\n",
       "    box-shadow: inset 0 1px 0 #999;\n",
       "    color: #fff;\n",
       "  font-weight: bold;\n",
       "    padding: 10px 15px;\n",
       "    position: relative;\n",
       "    text-shadow: 0 1px 0 #000;\n",
       "}\n",
       "\n",
       "th:after {\n",
       "    background: linear-gradient(rgba(255,255,255,0), rgba(255,255,255,.08));\n",
       "    content: '';\n",
       "    display: block;\n",
       "    height: 25%;\n",
       "    left: 0;\n",
       "    margin: 1px 0 0 0;\n",
       "    position: absolute;\n",
       "    top: 25%;\n",
       "    width: 100%;\n",
       "}\n",
       "\n",
       "th:first-child {\n",
       "    border-left: .5px solid #777;\n",
       "    box-shadow: inset 1px 1px 0 #999;\n",
       "}\n",
       "\n",
       "th:last-child {\n",
       "    box-shadow: inset -1px 1px 0 #999;\n",
       "}\n",
       "\n",
       "td {\n",
       "    border-right: 1px solid #fff;\n",
       "    border-left: 1px solid #e8e8e8;\n",
       "    border-top: 1px solid #fff;\n",
       "    border-bottom: 1px solid #e8e8e8;\n",
       "    padding: 10px 15px;\n",
       "    position: relative;\n",
       "    transition: all 300ms;\n",
       "}\n",
       "\n",
       "td:first-child {\n",
       "    box-shadow: inset 1px 0 0 #fff;\n",
       "}\n",
       "\n",
       "td:last-child {\n",
       "    border-right: 1px solid #e8e8e8;\n",
       "    box-shadow: inset -1px 0 0 #fff;\n",
       "}\n",
       "\n",
       "tr {\n",
       "    background: url(https://jackrugile.com/images/misc/noise-diagonal.png);\n",
       "}\n",
       "\n",
       "tr:nth-child(odd) td {\n",
       "    background: #f1f1f1 url(https://jackrugile.com/images/misc/noise-diagonal.png);\n",
       "}\n",
       "\n",
       "tr:last-of-type td {\n",
       "    box-shadow: inset 0 -1px 0 #fff;\n",
       "}\n",
       "\n",
       "tr:last-of-type td:first-child {\n",
       "    box-shadow: inset 1px -1px 0 #fff;\n",
       "}\n",
       "\n",
       "tr:last-of-type td:last-child {\n",
       "    box-shadow: inset -1px -1px 0 #fff;\n",
       "}\n",
       "\n",
       "tbody:hover td {\n",
       "    color: transparent;\n",
       "    text-shadow: 0 0 3px #aaa;\n",
       "}\n",
       "\n",
       "tbody:hover tr:hover td {\n",
       "    color: #444;\n",
       "    text-shadow: 0 1px 0 #fff;\n",
       "}\n",
       "</style>\n"
      ]
     },
     "metadata": {},
     "output_type": "display_data"
    }
   ],
   "source": [
    "od.head(5)"
   ]
  },
  {
   "cell_type": "code",
   "execution_count": 6,
   "metadata": {},
   "outputs": [
    {
     "data": {
      "text/plain": [
       "2-element Vector{Vector{T} where T}:\n",
       " [5, 15, 20, 25, 30, 35, 40, 45, 50, 65, 70]\n",
       " [\"A\", \"A\", \"B\", \"A\", \"B\", \"C\", \"C\", \"B\", \"A\", \"C\", \"A\"]"
      ]
     },
     "execution_count": 6,
     "metadata": {},
     "output_type": "execute_result"
    }
   ],
   "source": [
    "od.drop(2)"
   ]
  },
  {
   "cell_type": "code",
   "execution_count": 7,
   "metadata": {},
   "outputs": [
    {
     "data": {
      "text/html": [
       "<body><table><thead><tr><th title = \"data-type: Int64\n",
       " Feature Type: Continuous\n",
       " Mean: 34.166666666666664\n",
       " Minimum: 5\n",
       " Maximum: 70\">num</th><th title = \"data-type: String\n",
       " Feature Type: Categorical\n",
       " Categories: 3\n",
       " Majority: \">cats</th></tr></thead><tbody><tr><td title = \"data-type: Int64\n",
       " Feature Type: Continuous\n",
       " Mean: 34.166666666666664\n",
       " Minimum: 5\n",
       " Maximum: 70\">5</td><td title = \"data-type: String\n",
       " Feature Type: Categorical\n",
       " Categories: 3\n",
       " Majority: \">A</td></tr><tr><td title = \"data-type: Int64\n",
       " Feature Type: Continuous\n",
       " Mean: 34.166666666666664\n",
       " Minimum: 5\n",
       " Maximum: 70\">15</td><td title = \"data-type: String\n",
       " Feature Type: Categorical\n",
       " Categories: 3\n",
       " Majority: \">A</td></tr><tr><td title = \"data-type: Int64\n",
       " Feature Type: Continuous\n",
       " Mean: 34.166666666666664\n",
       " Minimum: 5\n",
       " Maximum: 70\">20</td><td title = \"data-type: String\n",
       " Feature Type: Categorical\n",
       " Categories: 3\n",
       " Majority: \">B</td></tr><tr><td title = \"data-type: Int64\n",
       " Feature Type: Continuous\n",
       " Mean: 34.166666666666664\n",
       " Minimum: 5\n",
       " Maximum: 70\">25</td><td title = \"data-type: String\n",
       " Feature Type: Categorical\n",
       " Categories: 3\n",
       " Majority: \">A</td></tr><tr><td title = \"data-type: Int64\n",
       " Feature Type: Continuous\n",
       " Mean: 34.166666666666664\n",
       " Minimum: 5\n",
       " Maximum: 70\">30</td><td title = \"data-type: String\n",
       " Feature Type: Categorical\n",
       " Categories: 3\n",
       " Majority: \">B</td></tr></tbody></table></body>\n",
       "<style>\n",
       "body {\n",
       "    background: #fafafa url(https://jackrugile.com/images/misc/noise-diagonal.png);\n",
       "    color: #444;\n",
       "    font: 100%/30px 'Helvetica Neue', helvetica, arial, sans-serif;\n",
       "    text-shadow: 0 1px 0 #fff;\n",
       "}\n",
       "\n",
       "strong {\n",
       "    font-weight: bold;\n",
       "}\n",
       "\n",
       "em {\n",
       "    font-style: italic;\n",
       "}\n",
       "\n",
       "table {\n",
       "    background: #f5f5f5;\n",
       "    border-collapse: separate;\n",
       "    box-shadow: inset 0 1px 0 #fff;\n",
       "    font-size: 12px;\n",
       "    line-height: 24px;\n",
       "    margin: 30px auto;\n",
       "    text-align: left;\n",
       "    width: 800px;\n",
       "}\n",
       "\n",
       "th {\n",
       "    background: url(https://jackrugile.com/images/misc/noise-diagonal.png), linear-gradient(#777, #444);\n",
       "    border-left: 1px solid #555;\n",
       "    border-right: 1px solid #777;\n",
       "    border-top: 1px solid #555;\n",
       "    border-bottom: 1px solid #333;\n",
       "    box-shadow: inset 0 1px 0 #999;\n",
       "    color: #fff;\n",
       "  font-weight: bold;\n",
       "    padding: 10px 15px;\n",
       "    position: relative;\n",
       "    text-shadow: 0 1px 0 #000;\n",
       "}\n",
       "\n",
       "th:after {\n",
       "    background: linear-gradient(rgba(255,255,255,0), rgba(255,255,255,.08));\n",
       "    content: '';\n",
       "    display: block;\n",
       "    height: 25%;\n",
       "    left: 0;\n",
       "    margin: 1px 0 0 0;\n",
       "    position: absolute;\n",
       "    top: 25%;\n",
       "    width: 100%;\n",
       "}\n",
       "\n",
       "th:first-child {\n",
       "    border-left: .5px solid #777;\n",
       "    box-shadow: inset 1px 1px 0 #999;\n",
       "}\n",
       "\n",
       "th:last-child {\n",
       "    box-shadow: inset -1px 1px 0 #999;\n",
       "}\n",
       "\n",
       "td {\n",
       "    border-right: 1px solid #fff;\n",
       "    border-left: 1px solid #e8e8e8;\n",
       "    border-top: 1px solid #fff;\n",
       "    border-bottom: 1px solid #e8e8e8;\n",
       "    padding: 10px 15px;\n",
       "    position: relative;\n",
       "    transition: all 300ms;\n",
       "}\n",
       "\n",
       "td:first-child {\n",
       "    box-shadow: inset 1px 0 0 #fff;\n",
       "}\n",
       "\n",
       "td:last-child {\n",
       "    border-right: 1px solid #e8e8e8;\n",
       "    box-shadow: inset -1px 0 0 #fff;\n",
       "}\n",
       "\n",
       "tr {\n",
       "    background: url(https://jackrugile.com/images/misc/noise-diagonal.png);\n",
       "}\n",
       "\n",
       "tr:nth-child(odd) td {\n",
       "    background: #f1f1f1 url(https://jackrugile.com/images/misc/noise-diagonal.png);\n",
       "}\n",
       "\n",
       "tr:last-of-type td {\n",
       "    box-shadow: inset 0 -1px 0 #fff;\n",
       "}\n",
       "\n",
       "tr:last-of-type td:first-child {\n",
       "    box-shadow: inset 1px -1px 0 #fff;\n",
       "}\n",
       "\n",
       "tr:last-of-type td:last-child {\n",
       "    box-shadow: inset -1px -1px 0 #fff;\n",
       "}\n",
       "\n",
       "tbody:hover td {\n",
       "    color: transparent;\n",
       "    text-shadow: 0 0 3px #aaa;\n",
       "}\n",
       "\n",
       "tbody:hover tr:hover td {\n",
       "    color: #444;\n",
       "    text-shadow: 0 1px 0 #fff;\n",
       "}\n",
       "</style>\n"
      ]
     },
     "metadata": {},
     "output_type": "display_data"
    }
   ],
   "source": [
    "od.head()"
   ]
  },
  {
   "cell_type": "code",
   "execution_count": 8,
   "metadata": {},
   "outputs": [
    {
     "data": {
      "text/plain": [
       "1-element Vector{Vector{T} where T}:\n",
       " [5, 15, 20, 25, 30, 35, 40, 45, 50, 65, 70]"
      ]
     },
     "execution_count": 8,
     "metadata": {},
     "output_type": "execute_result"
    }
   ],
   "source": [
    "od.drop(:cats)"
   ]
  },
  {
   "cell_type": "code",
   "execution_count": 9,
   "metadata": {},
   "outputs": [
    {
     "data": {
      "text/html": [
       "<body><table><thead><tr><th title = \"data-type: Int64\n",
       " Feature Type: Continuous\n",
       " Mean: 34.166666666666664\n",
       " Minimum: 5\n",
       " Maximum: 70\">num</th></tr></thead><tbody><tr><td title = \"data-type: Int64\n",
       " Feature Type: Continuous\n",
       " Mean: 34.166666666666664\n",
       " Minimum: 5\n",
       " Maximum: 70\">5</td></tr><tr><td title = \"data-type: Int64\n",
       " Feature Type: Continuous\n",
       " Mean: 34.166666666666664\n",
       " Minimum: 5\n",
       " Maximum: 70\">15</td></tr><tr><td title = \"data-type: Int64\n",
       " Feature Type: Continuous\n",
       " Mean: 34.166666666666664\n",
       " Minimum: 5\n",
       " Maximum: 70\">20</td></tr><tr><td title = \"data-type: Int64\n",
       " Feature Type: Continuous\n",
       " Mean: 34.166666666666664\n",
       " Minimum: 5\n",
       " Maximum: 70\">25</td></tr><tr><td title = \"data-type: Int64\n",
       " Feature Type: Continuous\n",
       " Mean: 34.166666666666664\n",
       " Minimum: 5\n",
       " Maximum: 70\">30</td></tr></tbody></table></body>\n",
       "<style>\n",
       "body {\n",
       "    background: #fafafa url(https://jackrugile.com/images/misc/noise-diagonal.png);\n",
       "    color: #444;\n",
       "    font: 100%/30px 'Helvetica Neue', helvetica, arial, sans-serif;\n",
       "    text-shadow: 0 1px 0 #fff;\n",
       "}\n",
       "\n",
       "strong {\n",
       "    font-weight: bold;\n",
       "}\n",
       "\n",
       "em {\n",
       "    font-style: italic;\n",
       "}\n",
       "\n",
       "table {\n",
       "    background: #f5f5f5;\n",
       "    border-collapse: separate;\n",
       "    box-shadow: inset 0 1px 0 #fff;\n",
       "    font-size: 12px;\n",
       "    line-height: 24px;\n",
       "    margin: 30px auto;\n",
       "    text-align: left;\n",
       "    width: 800px;\n",
       "}\n",
       "\n",
       "th {\n",
       "    background: url(https://jackrugile.com/images/misc/noise-diagonal.png), linear-gradient(#777, #444);\n",
       "    border-left: 1px solid #555;\n",
       "    border-right: 1px solid #777;\n",
       "    border-top: 1px solid #555;\n",
       "    border-bottom: 1px solid #333;\n",
       "    box-shadow: inset 0 1px 0 #999;\n",
       "    color: #fff;\n",
       "  font-weight: bold;\n",
       "    padding: 10px 15px;\n",
       "    position: relative;\n",
       "    text-shadow: 0 1px 0 #000;\n",
       "}\n",
       "\n",
       "th:after {\n",
       "    background: linear-gradient(rgba(255,255,255,0), rgba(255,255,255,.08));\n",
       "    content: '';\n",
       "    display: block;\n",
       "    height: 25%;\n",
       "    left: 0;\n",
       "    margin: 1px 0 0 0;\n",
       "    position: absolute;\n",
       "    top: 25%;\n",
       "    width: 100%;\n",
       "}\n",
       "\n",
       "th:first-child {\n",
       "    border-left: .5px solid #777;\n",
       "    box-shadow: inset 1px 1px 0 #999;\n",
       "}\n",
       "\n",
       "th:last-child {\n",
       "    box-shadow: inset -1px 1px 0 #999;\n",
       "}\n",
       "\n",
       "td {\n",
       "    border-right: 1px solid #fff;\n",
       "    border-left: 1px solid #e8e8e8;\n",
       "    border-top: 1px solid #fff;\n",
       "    border-bottom: 1px solid #e8e8e8;\n",
       "    padding: 10px 15px;\n",
       "    position: relative;\n",
       "    transition: all 300ms;\n",
       "}\n",
       "\n",
       "td:first-child {\n",
       "    box-shadow: inset 1px 0 0 #fff;\n",
       "}\n",
       "\n",
       "td:last-child {\n",
       "    border-right: 1px solid #e8e8e8;\n",
       "    box-shadow: inset -1px 0 0 #fff;\n",
       "}\n",
       "\n",
       "tr {\n",
       "    background: url(https://jackrugile.com/images/misc/noise-diagonal.png);\n",
       "}\n",
       "\n",
       "tr:nth-child(odd) td {\n",
       "    background: #f1f1f1 url(https://jackrugile.com/images/misc/noise-diagonal.png);\n",
       "}\n",
       "\n",
       "tr:last-of-type td {\n",
       "    box-shadow: inset 0 -1px 0 #fff;\n",
       "}\n",
       "\n",
       "tr:last-of-type td:first-child {\n",
       "    box-shadow: inset 1px -1px 0 #fff;\n",
       "}\n",
       "\n",
       "tr:last-of-type td:last-child {\n",
       "    box-shadow: inset -1px -1px 0 #fff;\n",
       "}\n",
       "\n",
       "tbody:hover td {\n",
       "    color: transparent;\n",
       "    text-shadow: 0 0 3px #aaa;\n",
       "}\n",
       "\n",
       "tbody:hover tr:hover td {\n",
       "    color: #444;\n",
       "    text-shadow: 0 1px 0 #fff;\n",
       "}\n",
       "</style>\n"
      ]
     },
     "metadata": {},
     "output_type": "display_data"
    }
   ],
   "source": [
    "od.head()"
   ]
  },
  {
   "cell_type": "markdown",
   "metadata": {},
   "source": [
    "# Indexing"
   ]
  },
  {
   "cell_type": "code",
   "execution_count": 10,
   "metadata": {},
   "outputs": [
    {
     "data": {
      "text/plain": [
       "11-element Vector{Int64}:\n",
       "  5\n",
       " 15\n",
       " 20\n",
       " 25\n",
       " 30\n",
       " 35\n",
       " 40\n",
       " 45\n",
       " 50\n",
       " 65\n",
       " 70"
      ]
     },
     "execution_count": 10,
     "metadata": {},
     "output_type": "execute_result"
    }
   ],
   "source": [
    "od[:num]"
   ]
  },
  {
   "cell_type": "code",
   "execution_count": 11,
   "metadata": {},
   "outputs": [
    {
     "data": {
      "text/plain": [
       "11-element Vector{Int64}:\n",
       "  5\n",
       " 15\n",
       " 20\n",
       " 25\n",
       " 30\n",
       " 35\n",
       " 40\n",
       " 45\n",
       " 50\n",
       " 65\n",
       " 70"
      ]
     },
     "execution_count": 11,
     "metadata": {},
     "output_type": "execute_result"
    }
   ],
   "source": [
    "od[1]"
   ]
  },
  {
   "cell_type": "code",
   "execution_count": 12,
   "metadata": {},
   "outputs": [
    {
     "data": {
      "text/plain": [
       "1-element Vector{Vector{Int64}}:\n",
       " [15]"
      ]
     },
     "execution_count": 12,
     "metadata": {},
     "output_type": "execute_result"
    }
   ],
   "source": [
    "z = od[od[:num] .== 15]"
   ]
  },
  {
   "cell_type": "markdown",
   "metadata": {},
   "source": [
    "# Functions"
   ]
  },
  {
   "cell_type": "code",
   "execution_count": 13,
   "metadata": {},
   "outputs": [
    {
     "name": "stdout",
     "output_type": "stream",
     "text": [
      "[1, 1]\n"
     ]
    }
   ],
   "source": [
    "println(shape(od))"
   ]
  },
  {
   "cell_type": "code",
   "execution_count": null,
   "metadata": {},
   "outputs": [],
   "source": []
  }
 ],
 "metadata": {
  "kernelspec": {
   "display_name": "Julia 1.5.3",
   "language": "julia",
   "name": "julia-1.5"
  },
  "language_info": {
   "file_extension": ".jl",
   "mimetype": "application/julia",
   "name": "julia",
   "version": "1.6.0"
  }
 },
 "nbformat": 4,
 "nbformat_minor": 4
}
