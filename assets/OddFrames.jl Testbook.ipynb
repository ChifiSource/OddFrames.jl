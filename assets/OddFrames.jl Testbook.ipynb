{
 "cells": [
  {
   "cell_type": "code",
   "execution_count": 1,
   "metadata": {},
   "outputs": [
    {
     "data": {
      "text/plain": [
       "Main.OddFrames"
      ]
     },
     "execution_count": 1,
     "metadata": {},
     "output_type": "execute_result"
    }
   ],
   "source": [
    "include(\"../src/OddFrames.jl\")"
   ]
  },
  {
   "cell_type": "code",
   "execution_count": 2,
   "metadata": {},
   "outputs": [],
   "source": [
    "using Main.OddFrames"
   ]
  },
  {
   "cell_type": "code",
   "execution_count": 3,
   "metadata": {},
   "outputs": [
    {
     "data": {
      "text/plain": [
       "5-element Vector{Int64}:\n",
       "  5\n",
       " 10\n",
       " 15\n",
       " 20\n",
       " 25"
      ]
     },
     "execution_count": 3,
     "metadata": {},
     "output_type": "execute_result"
    }
   ],
   "source": [
    "arr = [5, 10, 15, 20, 25]"
   ]
  },
  {
   "cell_type": "code",
   "execution_count": 4,
   "metadata": {},
   "outputs": [
    {
     "data": {
      "text/plain": [
       "OddFrame([:A, :B], Any[[5, 10, 15, 20, 25], [5, 10, 15, 20, 25]], DataType[Int64, Int64], Main.OddFrames.var\"#head#38\"{Vector{DataType}, Vector{Vector{Int64}}, Vector{Symbol}}(DataType[Int64, Int64], [[5, 10, 15, 20, 25], [5, 10, 15, 20, 25]], [:A, :B]), Main.OddFrames.var\"#drop#39\"{Vector{Vector{Int64}}, Vector{Symbol}}([[5, 10, 15, 20, 25], [5, 10, 15, 20, 25]], [:A, :B]), Main.OddFrames.var\"#dropna#40\"{Vector{Vector{Int64}}}([[5, 10, 15, 20, 25], [5, 10, 15, 20, 25]]), Main.OddFrames.var\"#dtype#41\"{Vector{Vector{Int64}}, Vector{Symbol}}([[5, 10, 15, 20, 25], [5, 10, 15, 20, 25]], [:A, :B]))"
      ]
     },
     "execution_count": 4,
     "metadata": {},
     "output_type": "execute_result"
    }
   ],
   "source": [
    "od = OddFrame(:A => arr, :B => arr)"
   ]
  },
  {
   "cell_type": "code",
   "execution_count": 5,
   "metadata": {},
   "outputs": [
    {
     "name": "stdout",
     "output_type": "stream",
     "text": [
      "[[5, 10, 15, 20, 25], [5, 10, 15, 20, 25]]DataType["
     ]
    },
    {
     "data": {
      "text/html": [
       "<body><table><thead><tr><th title = \"Data-type: Int64\n",
       "Feature Type: Continuous\n",
       "Mean: 15.0\">A</th><th title = \"Data-type: Int64\n",
       "Feature Type: Continuous\n",
       "Mean: 15.0\">B</th></tr></thead><tbody><tr><td title = \"Data-type: Int64\n",
       "Feature Type: Continuous\n",
       "Mean: 15.0\">5</td><td title = \"Data-type: Int64\n",
       "Feature Type: Continuous\n",
       "Mean: 15.0\">5</td></tr><tr><td title = \"Data-type: Int64\n",
       "Feature Type: Continuous\n",
       "Mean: 15.0\">10</td><td title = \"Data-type: Int64\n",
       "Feature Type: Continuous\n",
       "Mean: 15.0\">10</td></tr><tr><td title = \"Data-type: Int64\n",
       "Feature Type: Continuous\n",
       "Mean: 15.0\">15</td><td title = \"Data-type: Int64\n",
       "Feature Type: Continuous\n",
       "Mean: 15.0\">15</td></tr><tr><td title = \"Data-type: Int64\n",
       "Feature Type: Continuous\n",
       "Mean: 15.0\">20</td><td title = \"Data-type: Int64\n",
       "Feature Type: Continuous\n",
       "Mean: 15.0\">20</td></tr><tr><td title = \"Data-type: Int64\n",
       "Feature Type: Continuous\n",
       "Mean: 15.0\">25</td><td title = \"Data-type: Int64\n",
       "Feature Type: Continuous\n",
       "Mean: 15.0\">25</td></tr></tbody></table></body>\n",
       "<style>\n",
       "body {\n",
       "    background: #fafafa url(https://jackrugile.com/images/misc/noise-diagonal.png);\n",
       "    color: #444;\n",
       "    font: 100%/30px 'Helvetica Neue', helvetica, arial, sans-serif;\n",
       "    text-shadow: 0 1px 0 #fff;\n",
       "}\n",
       "\n",
       "strong {\n",
       "    font-weight: bold;\n",
       "}\n",
       "\n",
       "em {\n",
       "    font-style: italic;\n",
       "}\n",
       "\n",
       "table {\n",
       "    background: #f5f5f5;\n",
       "    border-collapse: separate;\n",
       "    box-shadow: inset 0 1px 0 #fff;\n",
       "    font-size: 12px;\n",
       "    line-height: 24px;\n",
       "    margin: 30px auto;\n",
       "    text-align: left;\n",
       "    width: 800px;\n",
       "}\n",
       "\n",
       "th {\n",
       "    background: url(https://jackrugile.com/images/misc/noise-diagonal.png), linear-gradient(#777, #444);\n",
       "    border-left: 1px solid #555;\n",
       "    border-right: 1px solid #777;\n",
       "    border-top: 1px solid #555;\n",
       "    border-bottom: 1px solid #333;\n",
       "    box-shadow: inset 0 1px 0 #999;\n",
       "    color: #fff;\n",
       "  font-weight: bold;\n",
       "    padding: 10px 15px;\n",
       "    position: relative;\n",
       "    text-shadow: 0 1px 0 #000;\n",
       "}\n",
       "\n",
       "th:after {\n",
       "    background: linear-gradient(rgba(255,255,255,0), rgba(255,255,255,.08));\n",
       "    content: '';\n",
       "    display: block;\n",
       "    height: 25%;\n",
       "    left: 0;\n",
       "    margin: 1px 0 0 0;\n",
       "    position: absolute;\n",
       "    top: 25%;\n",
       "    width: 100%;\n",
       "}\n",
       "\n",
       "th:first-child {\n",
       "    border-left: .5px solid #777;\n",
       "    box-shadow: inset 1px 1px 0 #999;\n",
       "}\n",
       "\n",
       "th:last-child {\n",
       "    box-shadow: inset -1px 1px 0 #999;\n",
       "}\n",
       "\n",
       "td {\n",
       "    border-right: 1px solid #fff;\n",
       "    border-left: 1px solid #e8e8e8;\n",
       "    border-top: 1px solid #fff;\n",
       "    border-bottom: 1px solid #e8e8e8;\n",
       "    padding: 10px 15px;\n",
       "    position: relative;\n",
       "    transition: all 300ms;\n",
       "}\n",
       "\n",
       "td:first-child {\n",
       "    box-shadow: inset 1px 0 0 #fff;\n",
       "}\n",
       "\n",
       "td:last-child {\n",
       "    border-right: 1px solid #e8e8e8;\n",
       "    box-shadow: inset -1px 0 0 #fff;\n",
       "}\n",
       "\n",
       "tr {\n",
       "    background: url(https://jackrugile.com/images/misc/noise-diagonal.png);\n",
       "}\n",
       "\n",
       "tr:nth-child(odd) td {\n",
       "    background: #f1f1f1 url(https://jackrugile.com/images/misc/noise-diagonal.png);\n",
       "}\n",
       "\n",
       "tr:last-of-type td {\n",
       "    box-shadow: inset 0 -1px 0 #fff;\n",
       "}\n",
       "\n",
       "tr:last-of-type td:first-child {\n",
       "    box-shadow: inset 1px -1px 0 #fff;\n",
       "}\n",
       "\n",
       "tr:last-of-type td:last-child {\n",
       "    box-shadow: inset -1px -1px 0 #fff;\n",
       "}\n",
       "\n",
       "tbody:hover td {\n",
       "    color: transparent;\n",
       "    text-shadow: 0 0 3px #aaa;\n",
       "}\n",
       "\n",
       "tbody:hover tr:hover td {\n",
       "    color: #444;\n",
       "    text-shadow: 0 1px 0 #fff;\n",
       "}\n",
       "</style>\n"
      ]
     },
     "metadata": {},
     "output_type": "display_data"
    },
    {
     "name": "stdout",
     "output_type": "stream",
     "text": [
      "Int64, Int64]\n"
     ]
    }
   ],
   "source": [
    "od.head(5)"
   ]
  },
  {
   "cell_type": "code",
   "execution_count": 6,
   "metadata": {},
   "outputs": [
    {
     "data": {
      "text/plain": [
       "OddFrame([:Z, :B], Any[[5, 10, 15, 20, 25], [5, 10, 15, 20, 25]], DataType[Int64, Int64], Main.OddFrames.var\"#head#38\"{Vector{DataType}, Vector{Vector{Int64}}, Vector{Symbol}}(DataType[Int64, Int64], [[5, 10, 15, 20, 25], [5, 10, 15, 20, 25]], [:Z, :B]), Main.OddFrames.var\"#drop#39\"{Vector{Vector{Int64}}, Vector{Symbol}}([[5, 10, 15, 20, 25], [5, 10, 15, 20, 25]], [:Z, :B]), Main.OddFrames.var\"#dropna#40\"{Vector{Vector{Int64}}}([[5, 10, 15, 20, 25], [5, 10, 15, 20, 25]]), Main.OddFrames.var\"#dtype#41\"{Vector{Vector{Int64}}, Vector{Symbol}}([[5, 10, 15, 20, 25], [5, 10, 15, 20, 25]], [:Z, :B]))"
      ]
     },
     "execution_count": 6,
     "metadata": {},
     "output_type": "execute_result"
    }
   ],
   "source": [
    "od2 = OddFrame(:Z => arr, :B => arr)"
   ]
  },
  {
   "cell_type": "code",
   "execution_count": 7,
   "metadata": {},
   "outputs": [
    {
     "data": {
      "text/html": [
       "<body><table><thead><tr><th title = \"Data-type: Int64\n",
       "Feature Type: Continuous\n",
       "Mean: 15.0\">Z</th><th title = \"Data-type: Int64\n",
       "Feature Type: Continuous\n",
       "Mean: 15.0\">B</th></tr></thead><tbody><tr><td title = \"Data-type: Int64\n",
       "Feature Type: Continuous\n",
       "Mean: 15.0\">5</td><td title = \"Data-type: Int64\n",
       "Feature Type: Continuous\n",
       "Mean: 15.0\">5</td></tr><tr><td title = \"Data-type: Int64\n",
       "Feature Type: Continuous\n",
       "Mean: 15.0\">10</td><td title = \"Data-type: Int64\n",
       "Feature Type: Continuous\n",
       "Mean: 15.0\">10</td></tr><tr><td title = \"Data-type: Int64\n",
       "Feature Type: Continuous\n",
       "Mean: 15.0\">15</td><td title = \"Data-type: Int64\n",
       "Feature Type: Continuous\n",
       "Mean: 15.0\">15</td></tr><tr><td title = \"Data-type: Int64\n",
       "Feature Type: Continuous\n",
       "Mean: 15.0\">20</td><td title = \"Data-type: Int64\n",
       "Feature Type: Continuous\n",
       "Mean: 15.0\">20</td></tr><tr><td title = \"Data-type: Int64\n",
       "Feature Type: Continuous\n",
       "Mean: 15.0\">25</td><td title = \"Data-type: Int64\n",
       "Feature Type: Continuous\n",
       "Mean: 15.0\">25</td></tr></tbody></table></body>\n",
       "<style>\n",
       "body {\n",
       "    background: #fafafa url(https://jackrugile.com/images/misc/noise-diagonal.png);\n",
       "    color: #444;\n",
       "    font: 100%/30px 'Helvetica Neue', helvetica, arial, sans-serif;\n",
       "    text-shadow: 0 1px 0 #fff;\n",
       "}\n",
       "\n",
       "strong {\n",
       "    font-weight: bold;\n",
       "}\n",
       "\n",
       "em {\n",
       "    font-style: italic;\n",
       "}\n",
       "\n",
       "table {\n",
       "    background: #f5f5f5;\n",
       "    border-collapse: separate;\n",
       "    box-shadow: inset 0 1px 0 #fff;\n",
       "    font-size: 12px;\n",
       "    line-height: 24px;\n",
       "    margin: 30px auto;\n",
       "    text-align: left;\n",
       "    width: 800px;\n",
       "}\n",
       "\n",
       "th {\n",
       "    background: url(https://jackrugile.com/images/misc/noise-diagonal.png), linear-gradient(#777, #444);\n",
       "    border-left: 1px solid #555;\n",
       "    border-right: 1px solid #777;\n",
       "    border-top: 1px solid #555;\n",
       "    border-bottom: 1px solid #333;\n",
       "    box-shadow: inset 0 1px 0 #999;\n",
       "    color: #fff;\n",
       "  font-weight: bold;\n",
       "    padding: 10px 15px;\n",
       "    position: relative;\n",
       "    text-shadow: 0 1px 0 #000;\n",
       "}\n",
       "\n",
       "th:after {\n",
       "    background: linear-gradient(rgba(255,255,255,0), rgba(255,255,255,.08));\n",
       "    content: '';\n",
       "    display: block;\n",
       "    height: 25%;\n",
       "    left: 0;\n",
       "    margin: 1px 0 0 0;\n",
       "    position: absolute;\n",
       "    top: 25%;\n",
       "    width: 100%;\n",
       "}\n",
       "\n",
       "th:first-child {\n",
       "    border-left: .5px solid #777;\n",
       "    box-shadow: inset 1px 1px 0 #999;\n",
       "}\n",
       "\n",
       "th:last-child {\n",
       "    box-shadow: inset -1px 1px 0 #999;\n",
       "}\n",
       "\n",
       "td {\n",
       "    border-right: 1px solid #fff;\n",
       "    border-left: 1px solid #e8e8e8;\n",
       "    border-top: 1px solid #fff;\n",
       "    border-bottom: 1px solid #e8e8e8;\n",
       "    padding: 10px 15px;\n",
       "    position: relative;\n",
       "    transition: all 300ms;\n",
       "}\n",
       "\n",
       "td:first-child {\n",
       "    box-shadow: inset 1px 0 0 #fff;\n",
       "}\n",
       "\n",
       "td:last-child {\n",
       "    border-right: 1px solid #e8e8e8;\n",
       "    box-shadow: inset -1px 0 0 #fff;\n",
       "}\n",
       "\n",
       "tr {\n",
       "    background: url(https://jackrugile.com/images/misc/noise-diagonal.png);\n",
       "}\n",
       "\n",
       "tr:nth-child(odd) td {\n",
       "    background: #f1f1f1 url(https://jackrugile.com/images/misc/noise-diagonal.png);\n",
       "}\n",
       "\n",
       "tr:last-of-type td {\n",
       "    box-shadow: inset 0 -1px 0 #fff;\n",
       "}\n",
       "\n",
       "tr:last-of-type td:first-child {\n",
       "    box-shadow: inset 1px -1px 0 #fff;\n",
       "}\n",
       "\n",
       "tr:last-of-type td:last-child {\n",
       "    box-shadow: inset -1px -1px 0 #fff;\n",
       "}\n",
       "\n",
       "tbody:hover td {\n",
       "    color: transparent;\n",
       "    text-shadow: 0 0 3px #aaa;\n",
       "}\n",
       "\n",
       "tbody:hover tr:hover td {\n",
       "    color: #444;\n",
       "    text-shadow: 0 1px 0 #fff;\n",
       "}\n",
       "</style>\n"
      ]
     },
     "metadata": {},
     "output_type": "display_data"
    },
    {
     "name": "stdout",
     "output_type": "stream",
     "text": [
      "[[5, 10, 15, 20, 25], [5, 10, 15, 20, 25]]DataType[Int64, Int64]\n"
     ]
    }
   ],
   "source": [
    "od2.head()"
   ]
  },
  {
   "cell_type": "code",
   "execution_count": 8,
   "metadata": {},
   "outputs": [
    {
     "name": "stdout",
     "output_type": "stream",
     "text": [
      "2\n",
      "2\n",
      "2\n"
     ]
    }
   ],
   "source": [
    "println(length(od2.types))\n",
    "println(length(od2.labels))\n",
    "println(length(od2.columns))"
   ]
  },
  {
   "cell_type": "code",
   "execution_count": 9,
   "metadata": {},
   "outputs": [
    {
     "name": "stdout",
     "output_type": "stream",
     "text": [
      "2\n",
      "2\n",
      "2\n"
     ]
    }
   ],
   "source": [
    "println(length(od.types))\n",
    "println(length(od.labels))\n",
    "println(length(od.columns))"
   ]
  },
  {
   "cell_type": "code",
   "execution_count": 10,
   "metadata": {},
   "outputs": [
    {
     "name": "stdout",
     "output_type": "stream",
     "text": [
      "Symbol\n",
      "Symbol\n"
     ]
    },
    {
     "ename": "LoadError",
     "evalue": "MethodError: \u001b[0mCannot `convert` an object of type \u001b[92mInt64\u001b[39m\u001b[0m to an object of type \u001b[91mSymbol\u001b[39m\n\u001b[0mClosest candidates are:\n\u001b[0m  convert(::Type{T}, \u001b[91m::T\u001b[39m) where T at essentials.jl:205\n\u001b[0m  Symbol(::Any...) at strings/basic.jl:229",
     "output_type": "error",
     "traceback": [
      "MethodError: \u001b[0mCannot `convert` an object of type \u001b[92mInt64\u001b[39m\u001b[0m to an object of type \u001b[91mSymbol\u001b[39m\n\u001b[0mClosest candidates are:\n\u001b[0m  convert(::Type{T}, \u001b[91m::T\u001b[39m) where T at essentials.jl:205\n\u001b[0m  Symbol(::Any...) at strings/basic.jl:229",
      "",
      "Stacktrace:",
      " [1] setindex!(A::Vector{Symbol}, x::Int64, i1::Int64)",
      "   @ Base ./array.jl:843",
      " [2] _append!(a::Vector{Symbol}, #unused#::Base.HasLength, iter::Tuple{Symbol, Int64})",
      "   @ Base ./array.jl:995",
      " [3] append!",
      "   @ ./array.jl:985 [inlined]",
      " [4] push!",
      "   @ ./array.jl:986 [inlined]",
      " [5] merge!(od::OddFrame, od2::OddFrame; at::Int64)",
      "   @ Main.OddFrames ~/dev/OddFrames.jl/src/interface/methods.jl:20",
      " [6] merge!(od::OddFrame, od2::OddFrame)",
      "   @ Main.OddFrames ~/dev/OddFrames.jl/src/interface/methods.jl:15",
      " [7] top-level scope",
      "   @ In[10]:1",
      " [8] eval",
      "   @ ./boot.jl:360 [inlined]",
      " [9] include_string(mapexpr::typeof(REPL.softscope), mod::Module, code::String, filename::String)",
      "   @ Base ./loading.jl:1116"
     ]
    }
   ],
   "source": [
    "Main.OddFrames.merge!(od, od2)"
   ]
  },
  {
   "cell_type": "code",
   "execution_count": 11,
   "metadata": {},
   "outputs": [
    {
     "name": "stdout",
     "output_type": "stream",
     "text": [
      "[:A, :B, :Z, #undef]\n"
     ]
    }
   ],
   "source": [
    "println(od.labels)"
   ]
  },
  {
   "cell_type": "code",
   "execution_count": 12,
   "metadata": {},
   "outputs": [
    {
     "name": "stdout",
     "output_type": "stream",
     "text": [
      "Any[[5, 10, 15, 20, 25], [5, 10, 15, 20, 25]]\n"
     ]
    }
   ],
   "source": [
    "println(od.columns)"
   ]
  },
  {
   "cell_type": "code",
   "execution_count": 13,
   "metadata": {},
   "outputs": [
    {
     "name": "stdout",
     "output_type": "stream",
     "text": [
      "DataType[Int64, Int64]\n"
     ]
    }
   ],
   "source": [
    "println(od.types)"
   ]
  },
  {
   "cell_type": "code",
   "execution_count": 14,
   "metadata": {},
   "outputs": [
    {
     "name": "stdout",
     "output_type": "stream",
     "text": [
      "[[5, 10, 15, 20, 25], [5, 10, 15, 20, 25]]DataType[Int64, Int64]\n"
     ]
    },
    {
     "ename": "LoadError",
     "evalue": "BoundsError: attempt to access 2-element Vector{Any} at index [3]",
     "output_type": "error",
     "traceback": [
      "BoundsError: attempt to access 2-element Vector{Any} at index [3]",
      "",
      "Stacktrace:",
      "  [1] getindex",
      "    @ ./array.jl:805 [inlined]",
      "  [2] (::Main.OddFrames.var\"#7#10\"{Vector{Any}})(::Tuple{Int64, Symbol})",
      "    @ Main.OddFrames ./none:0",
      "  [3] iterate",
      "    @ ./generator.jl:47 [inlined]",
      "  [4] collect_to!",
      "    @ ./array.jl:728 [inlined]",
      "  [5] collect_to_with_first!(dest::Vector{String}, v1::String, itr::Base.Generator{Base.Iterators.Enumerate{Vector{Symbol}}, Main.OddFrames.var\"#7#10\"{Vector{Any}}}, st::Tuple{Int64, Int64})",
      "    @ Base ./array.jl:706",
      "  [6] collect(itr::Base.Generator{Base.Iterators.Enumerate{Vector{Symbol}}, Main.OddFrames.var\"#7#10\"{Vector{Any}}})",
      "    @ Base ./array.jl:687",
      "  [7] _head(labels::Vector{Symbol}, columns::Vector{Vector{Int64}}, types::Vector{DataType}, count::Int64)",
      "    @ Main.OddFrames ~/dev/OddFrames.jl/src/type/member_func.jl:15",
      "  [8] (::Main.OddFrames.var\"#head#38\"{Vector{DataType}, Vector{Vector{Int64}}, Vector{Symbol}})(x::Int64)",
      "    @ Main.OddFrames ~/dev/OddFrames.jl/src/type/frame.jl:33",
      "  [9] top-level scope",
      "    @ In[14]:1",
      " [10] eval",
      "    @ ./boot.jl:360 [inlined]",
      " [11] include_string(mapexpr::typeof(REPL.softscope), mod::Module, code::String, filename::String)",
      "    @ Base ./loading.jl:1116"
     ]
    }
   ],
   "source": [
    "od.head(2)"
   ]
  },
  {
   "cell_type": "code",
   "execution_count": 15,
   "metadata": {},
   "outputs": [
    {
     "ename": "LoadError",
     "evalue": "UndefRefError: access to undefined reference",
     "output_type": "error",
     "traceback": [
      "UndefRefError: access to undefined reference",
      "",
      "Stacktrace:",
      "  [1] getindex",
      "    @ ./array.jl:805 [inlined]",
      "  [2] iterate",
      "    @ ./iterators.jl:257 [inlined]",
      "  [3] iterate",
      "    @ ./iterators.jl:454 [inlined]",
      "  [4] iterate",
      "    @ ./generator.jl:44 [inlined]",
      "  [5] grow_to!(dest::Vector{Int64}, itr::Base.Generator{Base.Iterators.Filter{Base.var\"#97#98\"{Main.OddFrames.var\"#77#78\"{Symbol}}, Base.Iterators.Pairs{Int64, Symbol, LinearIndices{1, Tuple{Base.OneTo{Int64}}}, Vector{Symbol}}}, typeof(first)}, st::Int64)",
      "    @ Base ./array.jl:765",
      "  [6] grow_to!(dest::Vector{Int64}, itr::Base.Generator{Base.Iterators.Filter{Base.var\"#97#98\"{Main.OddFrames.var\"#77#78\"{Symbol}}, Base.Iterators.Pairs{Int64, Symbol, LinearIndices{1, Tuple{Base.OneTo{Int64}}}, Vector{Symbol}}}, typeof(first)})",
      "    @ Base ./array.jl:747",
      "  [7] collect",
      "    @ ./array.jl:678 [inlined]",
      "  [8] findall(testf::Main.OddFrames.var\"#77#78\"{Symbol}, A::Vector{Symbol})",
      "    @ Base ./array.jl:2157",
      "  [9] axis(od::OddFrame, col::Symbol)",
      "    @ Main.OddFrames ~/dev/OddFrames.jl/src/interface/methods.jl:8",
      " [10] top-level scope",
      "    @ In[15]:1",
      " [11] eval",
      "    @ ./boot.jl:360 [inlined]",
      " [12] include_string(mapexpr::typeof(REPL.softscope), mod::Module, code::String, filename::String)",
      "    @ Base ./loading.jl:1116"
     ]
    }
   ],
   "source": [
    "OddFrames.axis(od, :B)"
   ]
  },
  {
   "cell_type": "code",
   "execution_count": 16,
   "metadata": {},
   "outputs": [
    {
     "data": {
      "text/plain": [
       "2"
      ]
     },
     "execution_count": 16,
     "metadata": {},
     "output_type": "execute_result"
    }
   ],
   "source": [
    "OddFrames.width(od2)"
   ]
  },
  {
   "cell_type": "code",
   "execution_count": 17,
   "metadata": {},
   "outputs": [
    {
     "data": {
      "text/plain": [
       "4-element Vector{Int64}:\n",
       "  5\n",
       " 10\n",
       " 15\n",
       " 20"
      ]
     },
     "execution_count": 17,
     "metadata": {},
     "output_type": "execute_result"
    }
   ],
   "source": [
    "h = [5, 10, 15, 20]"
   ]
  },
  {
   "cell_type": "code",
   "execution_count": 18,
   "metadata": {},
   "outputs": [
    {
     "data": {
      "text/plain": [
       "10"
      ]
     },
     "execution_count": 18,
     "metadata": {},
     "output_type": "execute_result"
    }
   ],
   "source": [
    "h[2]"
   ]
  },
  {
   "cell_type": "code",
   "execution_count": 19,
   "metadata": {},
   "outputs": [
    {
     "data": {
      "text/plain": [
       "6-element Vector{Int64}:\n",
       "  5\n",
       " 10\n",
       " 15\n",
       " 20\n",
       "  1\n",
       "  5"
      ]
     },
     "execution_count": 19,
     "metadata": {},
     "output_type": "execute_result"
    }
   ],
   "source": [
    "push!(h, 1, 5)"
   ]
  },
  {
   "cell_type": "code",
   "execution_count": 20,
   "metadata": {},
   "outputs": [
    {
     "data": {
      "text/plain": [
       "8-element Vector{Int64}:\n",
       "  5\n",
       " 10\n",
       " 15\n",
       " 20\n",
       "  1\n",
       "  5\n",
       "  5\n",
       "  1"
      ]
     },
     "execution_count": 20,
     "metadata": {},
     "output_type": "execute_result"
    }
   ],
   "source": [
    "push!(h, 5, 1)"
   ]
  },
  {
   "cell_type": "code",
   "execution_count": 39,
   "metadata": {},
   "outputs": [
    {
     "data": {
      "text/plain": [
       "2-element Vector{Symbol}:\n",
       " :hello\n",
       " :hi"
      ]
     },
     "execution_count": 39,
     "metadata": {},
     "output_type": "execute_result"
    }
   ],
   "source": [
    "z = [:hello, :hi]"
   ]
  },
  {
   "cell_type": "code",
   "execution_count": 40,
   "metadata": {},
   "outputs": [
    {
     "data": {
      "text/plain": [
       "6-element Vector{Int64}:\n",
       " 1\n",
       " 2\n",
       " 3\n",
       " 4\n",
       " 5\n",
       " 6"
      ]
     },
     "execution_count": 40,
     "metadata": {},
     "output_type": "execute_result"
    }
   ],
   "source": [
    "push!([1, 2, 3], 4, 5, 6)"
   ]
  },
  {
   "cell_type": "code",
   "execution_count": 41,
   "metadata": {},
   "outputs": [],
   "source": [
    "newsymbs = [:hello, :howdy]\n",
    "for i in newsymbs\n",
    "    push!(z, i)\n",
    "end"
   ]
  },
  {
   "cell_type": "code",
   "execution_count": 45,
   "metadata": {},
   "outputs": [
    {
     "data": {
      "text/plain": [
       "x (generic function with 1 method)"
      ]
     },
     "execution_count": 45,
     "metadata": {},
     "output_type": "execute_result"
    }
   ],
   "source": [
    "x(z::UnitRange) = 5"
   ]
  },
  {
   "cell_type": "code",
   "execution_count": 23,
   "metadata": {},
   "outputs": [],
   "source": [
    "Main.OddFrames.merge!(od, od2)"
   ]
  },
  {
   "cell_type": "code",
   "execution_count": 24,
   "metadata": {},
   "outputs": [
    {
     "name": "stdout",
     "output_type": "stream",
     "text": [
      "[[5, 10, 15, 20, 25], [5, 10, 15, 20, 25]]DataType[Int64, Int64]\n"
     ]
    },
    {
     "ename": "LoadError",
     "evalue": "BoundsError: attempt to access 2-element Vector{Any} at index [3]",
     "output_type": "error",
     "traceback": [
      "BoundsError: attempt to access 2-element Vector{Any} at index [3]",
      "",
      "Stacktrace:",
      "  [1] getindex",
      "    @ ./array.jl:805 [inlined]",
      "  [2] (::Main.OddFrames.var\"#7#10\"{Vector{Any}})(::Tuple{Int64, Symbol})",
      "    @ Main.OddFrames ./none:0",
      "  [3] iterate",
      "    @ ./generator.jl:47 [inlined]",
      "  [4] collect_to!",
      "    @ ./array.jl:728 [inlined]",
      "  [5] collect_to_with_first!(dest::Vector{String}, v1::String, itr::Base.Generator{Base.Iterators.Enumerate{Vector{Symbol}}, Main.OddFrames.var\"#7#10\"{Vector{Any}}}, st::Tuple{Int64, Int64})",
      "    @ Base ./array.jl:706",
      "  [6] collect(itr::Base.Generator{Base.Iterators.Enumerate{Vector{Symbol}}, Main.OddFrames.var\"#7#10\"{Vector{Any}}})",
      "    @ Base ./array.jl:687",
      "  [7] _head(labels::Vector{Symbol}, columns::Vector{Vector{Int64}}, types::Vector{DataType}, count::Int64)",
      "    @ Main.OddFrames ~/dev/OddFrames.jl/src/type/member_func.jl:15",
      "  [8] (::Main.OddFrames.var\"#head#38\"{Vector{DataType}, Vector{Vector{Int64}}, Vector{Symbol}})()",
      "    @ Main.OddFrames ~/dev/OddFrames.jl/src/type/frame.jl:34",
      "  [9] top-level scope",
      "    @ In[24]:1",
      " [10] eval",
      "    @ ./boot.jl:360 [inlined]",
      " [11] include_string(mapexpr::typeof(REPL.softscope), mod::Module, code::String, filename::String)",
      "    @ Base ./loading.jl:1116"
     ]
    }
   ],
   "source": [
    "od.head()"
   ]
  },
  {
   "cell_type": "code",
   "execution_count": 25,
   "metadata": {},
   "outputs": [
    {
     "data": {
      "text/plain": [
       "4-element Vector{Symbol}:\n",
       "    :A\n",
       "    :B\n",
       "    :Z\n",
       " #undef"
      ]
     },
     "execution_count": 25,
     "metadata": {},
     "output_type": "execute_result"
    }
   ],
   "source": [
    "od.labels"
   ]
  },
  {
   "cell_type": "code",
   "execution_count": 26,
   "metadata": {},
   "outputs": [],
   "source": [
    "merge!(od, od2)"
   ]
  },
  {
   "cell_type": "code",
   "execution_count": 27,
   "metadata": {},
   "outputs": [
    {
     "ename": "LoadError",
     "evalue": "UndefVarError: od3 not defined",
     "output_type": "error",
     "traceback": [
      "UndefVarError: od3 not defined",
      "",
      "Stacktrace:",
      " [1] top-level scope",
      "   @ :0",
      " [2] eval",
      "   @ ./boot.jl:360 [inlined]",
      " [3] include_string(mapexpr::typeof(REPL.softscope), mod::Module, code::String, filename::String)",
      "   @ Base ./loading.jl:1116"
     ]
    }
   ],
   "source": [
    "od3"
   ]
  },
  {
   "cell_type": "code",
   "execution_count": null,
   "metadata": {},
   "outputs": [],
   "source": []
  }
 ],
 "metadata": {
  "kernelspec": {
   "display_name": "Julia 1.6.3",
   "language": "julia",
   "name": "julia-1.6"
  },
  "language_info": {
   "file_extension": ".jl",
   "mimetype": "application/julia",
   "name": "julia",
   "version": "1.6.3"
  }
 },
 "nbformat": 4,
 "nbformat_minor": 4
}
